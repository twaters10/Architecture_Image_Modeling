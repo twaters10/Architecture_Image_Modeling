{
 "cells": [
  {
   "cell_type": "code",
   "execution_count": 2,
   "metadata": {},
   "outputs": [
    {
     "name": "stdout",
     "output_type": "stream",
     "text": [
      "\n",
      "No similar images found.\n"
     ]
    }
   ],
   "source": [
    "import os\n",
    "from PIL import Image\n",
    "import imagehash\n",
    "from itertools import combinations\n",
    "\n",
    "def find_similar_images(folder_path, hash_size=8, threshold=5):\n",
    "    \"\"\"\n",
    "    Finds similar images in a folder using perceptual hashing.\n",
    "\n",
    "    Args:\n",
    "        folder_path (str): The path to the folder containing images.\n",
    "        hash_size (int): The size of the hash. A larger size can be more\n",
    "                         precise but slower.\n",
    "        threshold (int): The maximum allowed difference between two hashes\n",
    "                         to be considered similar. A lower value is stricter.\n",
    "\n",
    "    Returns:\n",
    "        A list of tuples, where each tuple contains the paths of two similar images.\n",
    "    \"\"\"\n",
    "    image_files = [os.path.join(folder_path, f) for f in os.listdir(folder_path)\n",
    "                   if f.lower().endswith(('.png', '.jpg', '.jpeg', '.gif', '.bmp'))]\n",
    "\n",
    "    # Dictionary to store hashes: {hash_value: [file_path1, file_path2, ...]}\n",
    "    hashes = {}\n",
    "\n",
    "    for image_path in image_files:\n",
    "        try:\n",
    "            with Image.open(image_path) as img:\n",
    "                # Use a perceptual hash algorithm (e.g., dhash, phash)\n",
    "                # dhash is often a good balance of speed and accuracy\n",
    "                image_hash = imagehash.dhash(img, hash_size=hash_size)\n",
    "                \n",
    "                # Check for exact duplicates first\n",
    "                if image_hash in hashes:\n",
    "                    print(f\"Exact duplicate found: '{image_path}' and '{hashes[image_hash][0]}'\")\n",
    "                    hashes[image_hash].append(image_path)\n",
    "                else:\n",
    "                    hashes[image_hash] = [image_path]\n",
    "\n",
    "        except Exception as e:\n",
    "            print(f\"Could not process image '{image_path}': {e}\")\n",
    "    \n",
    "    similar_pairs = []\n",
    "    # Compare hashes of all unique pairs of images\n",
    "    hash_list = list(hashes.keys())\n",
    "    for hash1, hash2 in combinations(hash_list, 2):\n",
    "        # Calculate the Hamming distance (difference) between the hashes\n",
    "        hash_difference = hash1 - hash2\n",
    "        print(hash_difference)\n",
    "        if hash_difference <= threshold:\n",
    "            for file1 in hashes[hash1]:\n",
    "                for file2 in hashes[hash2]:\n",
    "                    # Make sure not to compare the same file\n",
    "                    if file1 != file2:\n",
    "                        similar_pairs.append((file1, file2, hash_difference))\n",
    "\n",
    "    return similar_pairs"
   ]
  },
  {
   "cell_type": "code",
   "execution_count": 4,
   "metadata": {},
   "outputs": [
    {
     "name": "stdout",
     "output_type": "stream",
     "text": [
      "\n",
      "No similar images found.\n"
     ]
    }
   ],
   "source": [
    "if __name__ == \"__main__\":\n",
    "    # Replace with the path to your image folder\n",
    "    my_image_folder = \"/Users/tawate/Documents/Architecture_Image_Modeling/architectural_style_images\"\n",
    "\n",
    "    if not os.path.isdir(my_image_folder):\n",
    "        print(f\"Error: The folder '{my_image_folder}' does not exist.\")\n",
    "        exit()\n",
    "\n",
    "    similar_images = find_similar_images(my_image_folder)\n",
    "\n",
    "    if similar_images:\n",
    "        print(\"\\n--- Found Similar Image Pairs ---\")\n",
    "        for file1, file2, diff in similar_images:\n",
    "            print(f\"'{os.path.basename(file1)}' and '{os.path.basename(file2)}' are similar (Difference: {diff})\")\n",
    "    else:\n",
    "        print(\"\\nNo similar images found.\")"
   ]
  }
 ],
 "metadata": {
  "kernelspec": {
   "display_name": ".venv",
   "language": "python",
   "name": "python3"
  },
  "language_info": {
   "codemirror_mode": {
    "name": "ipython",
    "version": 3
   },
   "file_extension": ".py",
   "mimetype": "text/x-python",
   "name": "python",
   "nbconvert_exporter": "python",
   "pygments_lexer": "ipython3",
   "version": "3.12.10"
  }
 },
 "nbformat": 4,
 "nbformat_minor": 2
}
