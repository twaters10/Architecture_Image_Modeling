{
 "cells": [
  {
   "cell_type": "code",
   "execution_count": 1,
   "metadata": {},
   "outputs": [
    {
     "name": "stdout",
     "output_type": "stream",
     "text": [
      "Collecting duckduckgo_search\n",
      "  Using cached duckduckgo_search-8.1.1-py3-none-any.whl.metadata (16 kB)\n",
      "Collecting requests\n",
      "  Downloading requests-2.32.5-py3-none-any.whl.metadata (4.9 kB)\n",
      "Collecting click>=8.1.8 (from duckduckgo_search)\n",
      "  Using cached click-8.2.1-py3-none-any.whl.metadata (2.5 kB)\n",
      "Collecting primp>=0.15.0 (from duckduckgo_search)\n",
      "  Using cached primp-0.15.0-cp38-abi3-macosx_11_0_arm64.whl.metadata (13 kB)\n",
      "Collecting lxml>=5.3.0 (from duckduckgo_search)\n",
      "  Downloading lxml-6.0.1-cp313-cp313-macosx_10_13_universal2.whl.metadata (3.8 kB)\n",
      "Collecting charset_normalizer<4,>=2 (from requests)\n",
      "  Using cached charset_normalizer-3.4.3-cp313-cp313-macosx_10_13_universal2.whl.metadata (36 kB)\n",
      "Collecting idna<4,>=2.5 (from requests)\n",
      "  Using cached idna-3.10-py3-none-any.whl.metadata (10 kB)\n",
      "Collecting urllib3<3,>=1.21.1 (from requests)\n",
      "  Using cached urllib3-2.5.0-py3-none-any.whl.metadata (6.5 kB)\n",
      "Collecting certifi>=2017.4.17 (from requests)\n",
      "  Using cached certifi-2025.8.3-py3-none-any.whl.metadata (2.4 kB)\n",
      "Using cached duckduckgo_search-8.1.1-py3-none-any.whl (18 kB)\n",
      "Downloading requests-2.32.5-py3-none-any.whl (64 kB)\n",
      "Using cached charset_normalizer-3.4.3-cp313-cp313-macosx_10_13_universal2.whl (205 kB)\n",
      "Using cached idna-3.10-py3-none-any.whl (70 kB)\n",
      "Using cached urllib3-2.5.0-py3-none-any.whl (129 kB)\n",
      "Using cached certifi-2025.8.3-py3-none-any.whl (161 kB)\n",
      "Using cached click-8.2.1-py3-none-any.whl (102 kB)\n",
      "Downloading lxml-6.0.1-cp313-cp313-macosx_10_13_universal2.whl (8.4 MB)\n",
      "\u001b[2K   \u001b[90m━━━━━━━━━━━━━━━━━━━━━━━━━━━━━━━━━━━━━━━━\u001b[0m \u001b[32m8.4/8.4 MB\u001b[0m \u001b[31m25.7 MB/s\u001b[0m  \u001b[33m0:00:00\u001b[0mm0:00:01\u001b[0m\n",
      "\u001b[?25hUsing cached primp-0.15.0-cp38-abi3-macosx_11_0_arm64.whl (3.0 MB)\n",
      "Installing collected packages: urllib3, primp, lxml, idna, click, charset_normalizer, certifi, requests, duckduckgo_search\n",
      "\u001b[2K   \u001b[90m━━━━━━━━━━━━━━━━━━━━━━━━━━━━━━━━━━━━━━━━\u001b[0m \u001b[32m9/9\u001b[0m [duckduckgo_search]requests]\n",
      "\u001b[1A\u001b[2KSuccessfully installed certifi-2025.8.3 charset_normalizer-3.4.3 click-8.2.1 duckduckgo_search-8.1.1 idna-3.10 lxml-6.0.1 primp-0.15.0 requests-2.32.5 urllib3-2.5.0\n",
      "Note: you may need to restart the kernel to use updated packages.\n",
      "Searching for 'Gothic Revival architecture house' on DuckDuckGo...\n"
     ]
    },
    {
     "name": "stderr",
     "output_type": "stream",
     "text": [
      "/var/folders/s8/6lj08kz17ls03rcr6ms85hc00000gn/T/ipykernel_46601/2650911059.py:23: RuntimeWarning: This package (`duckduckgo_search`) has been renamed to `ddgs`! Use `pip install ddgs` instead.\n",
      "  with DDGS() as ddgs:\n"
     ]
    },
    {
     "name": "stdout",
     "output_type": "stream",
     "text": [
      "Found image results. Starting download of up to 1 images...\n",
      "Created directory: gothic_revival_images\n",
      "[1/1] Downloading: https://i.pinimg.com/originals/89/dd/bf/89ddbfffe93a3ed8d70f729422ca43...\n",
      "   -> Saved as gothic_revival_images/gothic_revival_1.jpg\n",
      "\n",
      "Download process finished.\n"
     ]
    }
   ],
   "source": [
    "%pip install duckduckgo_search requests\n",
    "import os\n",
    "import requests\n",
    "from duckduckgo_search import DDGS\n",
    "\n",
    "# --- Configuration ---\n",
    "# The search query you want to use\n",
    "SEARCH_QUERY = \"Gothic Revival architecture house\"\n",
    "\n",
    "# The directory where you want to save the images\n",
    "DOWNLOAD_DIRECTORY = \"gothic_revival_images\"\n",
    "\n",
    "# The maximum number of images you want to download\n",
    "MAX_IMAGES = 1\n",
    "\n",
    "def download_images():\n",
    "    \"\"\"\n",
    "    Searches for images using DuckDuckGo and downloads them.\n",
    "    \"\"\"\n",
    "    print(f\"Searching for '{SEARCH_QUERY}' on DuckDuckGo...\")\n",
    "\n",
    "    # Use a context manager for the DDGS client\n",
    "    with DDGS() as ddgs:\n",
    "        # The ddgs.images() function is a generator that yields search results\n",
    "        # We specify the query, region, safesearch, and max_results\n",
    "        search_results = ddgs.images(\n",
    "            keywords=SEARCH_QUERY,\n",
    "            region=\"us-en\",      # United States, English\n",
    "            safesearch=\"off\",    # or \"on\", \"moderate\"\n",
    "            size=None,           # Any size\n",
    "            color=None,          # Any color\n",
    "            type_image=None,     # Any type (photo, clipart, etc.)\n",
    "            layout=None,         # Any layout (square, tall, wide)\n",
    "            license_image=None,  # Any license\n",
    "            max_results=MAX_IMAGES\n",
    "        )\n",
    "\n",
    "        print(f\"Found image results. Starting download of up to {MAX_IMAGES} images...\")\n",
    "\n",
    "        # Create the download directory if it doesn't exist\n",
    "        if not os.path.exists(DOWNLOAD_DIRECTORY):\n",
    "            os.makedirs(DOWNLOAD_DIRECTORY)\n",
    "            print(f\"Created directory: {DOWNLOAD_DIRECTORY}\")\n",
    "\n",
    "        # Loop through the search results to download images\n",
    "        for i, result in enumerate(search_results):\n",
    "            image_url = result.get(\"image\")\n",
    "            if not image_url:\n",
    "                print(f\"Skipping result {i+1}: No image URL found.\")\n",
    "                continue\n",
    "\n",
    "            try:\n",
    "                # Get the image content from the URL\n",
    "                print(f\"[{i+1}/{MAX_IMAGES}] Downloading: {image_url[:70]}...\")\n",
    "                response = requests.get(image_url, timeout=10)\n",
    "                \n",
    "                # Raise an exception if the request was unsuccessful (e.g., 404 Not Found)\n",
    "                response.raise_for_status()\n",
    "\n",
    "                # Determine the file extension (default to .jpg)\n",
    "                file_extension = os.path.splitext(image_url)[1]\n",
    "                if not file_extension or len(file_extension) > 5: # Basic check for valid extension\n",
    "                    file_extension = \".jpg\"\n",
    "                \n",
    "                # Create a unique filename for the image\n",
    "                filename = f\"gothic_revival_{i+1}{file_extension}\"\n",
    "                filepath = os.path.join(DOWNLOAD_DIRECTORY, filename)\n",
    "\n",
    "                # Save the image to the directory\n",
    "                with open(filepath, 'wb') as f:\n",
    "                    f.write(response.content)\n",
    "                \n",
    "                print(f\"   -> Saved as {filepath}\")\n",
    "\n",
    "            except requests.exceptions.RequestException as e:\n",
    "                print(f\"   -> Error downloading image {i+1}: {e}\")\n",
    "            except Exception as e:\n",
    "                print(f\"   -> An unexpected error occurred for image {i+1}: {e}\")\n",
    "\n",
    "    print(\"\\nDownload process finished.\")\n",
    "\n",
    "if __name__ == \"__main__\":\n",
    "    download_images()"
   ]
  },
  {
   "cell_type": "code",
   "execution_count": 7,
   "metadata": {},
   "outputs": [
    {
     "name": "stdout",
     "output_type": "stream",
     "text": [
      "\n",
      "--- Starting style 1 of 22 ---\n",
      "\n",
      "====================\n",
      "Processing style: Saltbox\n",
      "====================\n",
      "Saving images to: architectural_style_images/Saltbox\n",
      "Searching for: 'Saltbox house architecture'...\n"
     ]
    },
    {
     "name": "stderr",
     "output_type": "stream",
     "text": [
      "/var/folders/s8/6lj08kz17ls03rcr6ms85hc00000gn/T/ipykernel_46601/2218560444.py:54: RuntimeWarning: This package (`duckduckgo_search`) has been renamed to `ddgs`! Use `pip install ddgs` instead.\n",
      "  with DDGS() as ddgs:\n"
     ]
    },
    {
     "name": "stdout",
     "output_type": "stream",
     "text": [
      "A critical error occurred while searching for Saltbox: https://duckduckgo.com/i.js?o=json&q=Saltbox+house+architecture&l=us-en&vqd=4-77971580884481321998838787339606919092&p=-1&f=%2C%2C%2C%2C%2C 403 Ratelimit\n",
      "\n",
      "Finished processing 'Saltbox'. Downloaded 0 images.\n",
      "\n",
      "--- Starting style 2 of 22 ---\n",
      "\n",
      "====================\n",
      "Processing style: Georgian\n",
      "====================\n",
      "Saving images to: architectural_style_images/Georgian\n",
      "Searching for: 'Georgian house architecture'...\n"
     ]
    },
    {
     "name": "stderr",
     "output_type": "stream",
     "text": [
      "/var/folders/s8/6lj08kz17ls03rcr6ms85hc00000gn/T/ipykernel_46601/2218560444.py:54: RuntimeWarning: This package (`duckduckgo_search`) has been renamed to `ddgs`! Use `pip install ddgs` instead.\n",
      "  with DDGS() as ddgs:\n"
     ]
    },
    {
     "name": "stdout",
     "output_type": "stream",
     "text": [
      "A critical error occurred while searching for Georgian: https://duckduckgo.com/i.js?o=json&q=Georgian+house+architecture&l=us-en&vqd=4-304468755422605327266758401698801492877&p=-1&f=%2C%2C%2C%2C%2C 403 Ratelimit\n",
      "\n",
      "Finished processing 'Georgian'. Downloaded 0 images.\n",
      "\n",
      "--- Starting style 3 of 22 ---\n",
      "\n",
      "====================\n",
      "Processing style: Federal\n",
      "====================\n",
      "Saving images to: architectural_style_images/Federal\n",
      "Searching for: 'Federal house architecture'...\n"
     ]
    },
    {
     "name": "stderr",
     "output_type": "stream",
     "text": [
      "/var/folders/s8/6lj08kz17ls03rcr6ms85hc00000gn/T/ipykernel_46601/2218560444.py:54: RuntimeWarning: This package (`duckduckgo_search`) has been renamed to `ddgs`! Use `pip install ddgs` instead.\n",
      "  with DDGS() as ddgs:\n"
     ]
    },
    {
     "name": "stdout",
     "output_type": "stream",
     "text": [
      "A critical error occurred while searching for Federal: https://duckduckgo.com/i.js?o=json&q=Federal+house+architecture&l=us-en&vqd=4-95364681431216783761873626646638361216&p=-1&f=%2C%2C%2C%2C%2C 403 Ratelimit\n",
      "\n",
      "Finished processing 'Federal'. Downloaded 0 images.\n",
      "\n",
      "--- Starting style 4 of 22 ---\n",
      "\n",
      "====================\n",
      "Processing style: Greek Revival\n",
      "====================\n",
      "Saving images to: architectural_style_images/Greek_Revival\n",
      "Searching for: 'Greek Revival house architecture'...\n"
     ]
    },
    {
     "name": "stderr",
     "output_type": "stream",
     "text": [
      "/var/folders/s8/6lj08kz17ls03rcr6ms85hc00000gn/T/ipykernel_46601/2218560444.py:54: RuntimeWarning: This package (`duckduckgo_search`) has been renamed to `ddgs`! Use `pip install ddgs` instead.\n",
      "  with DDGS() as ddgs:\n"
     ]
    },
    {
     "name": "stdout",
     "output_type": "stream",
     "text": [
      "A critical error occurred while searching for Greek Revival: https://duckduckgo.com/i.js?o=json&q=Greek+Revival+house+architecture&l=us-en&vqd=4-189785263385589831098824741796236684520&p=-1&f=%2C%2C%2C%2C%2C 403 Ratelimit\n",
      "\n",
      "Finished processing 'Greek Revival'. Downloaded 0 images.\n",
      "\n",
      "--- Starting style 5 of 22 ---\n",
      "\n",
      "====================\n",
      "Processing style: Gothic Revival\n",
      "====================\n",
      "Saving images to: architectural_style_images/Gothic_Revival\n",
      "Searching for: 'Gothic Revival house architecture'...\n"
     ]
    },
    {
     "name": "stderr",
     "output_type": "stream",
     "text": [
      "/var/folders/s8/6lj08kz17ls03rcr6ms85hc00000gn/T/ipykernel_46601/2218560444.py:54: RuntimeWarning: This package (`duckduckgo_search`) has been renamed to `ddgs`! Use `pip install ddgs` instead.\n",
      "  with DDGS() as ddgs:\n"
     ]
    },
    {
     "name": "stdout",
     "output_type": "stream",
     "text": [
      "A critical error occurred while searching for Gothic Revival: https://duckduckgo.com/i.js?o=json&q=Gothic+Revival+house+architecture&l=us-en&vqd=4-184313086890663059318280298857201253301&p=-1&f=%2C%2C%2C%2C%2C 403 Ratelimit\n",
      "\n",
      "Finished processing 'Gothic Revival'. Downloaded 0 images.\n",
      "\n",
      "--- Starting style 6 of 22 ---\n",
      "\n",
      "====================\n",
      "Processing style: Italianate\n",
      "====================\n",
      "Saving images to: architectural_style_images/Italianate\n",
      "Searching for: 'Italianate house architecture'...\n"
     ]
    },
    {
     "name": "stderr",
     "output_type": "stream",
     "text": [
      "/var/folders/s8/6lj08kz17ls03rcr6ms85hc00000gn/T/ipykernel_46601/2218560444.py:54: RuntimeWarning: This package (`duckduckgo_search`) has been renamed to `ddgs`! Use `pip install ddgs` instead.\n",
      "  with DDGS() as ddgs:\n"
     ]
    },
    {
     "name": "stdout",
     "output_type": "stream",
     "text": [
      "A critical error occurred while searching for Italianate: https://duckduckgo.com/i.js?o=json&q=Italianate+house+architecture&l=us-en&vqd=4-159285815315878504719518856731230821115&p=-1&f=%2C%2C%2C%2C%2C 403 Ratelimit\n",
      "\n",
      "Finished processing 'Italianate'. Downloaded 0 images.\n",
      "\n",
      "--- Starting style 7 of 22 ---\n",
      "\n",
      "====================\n",
      "Processing style: Second Empire\n",
      "====================\n",
      "Saving images to: architectural_style_images/Second_Empire\n",
      "Searching for: 'Second Empire house architecture'...\n"
     ]
    },
    {
     "name": "stderr",
     "output_type": "stream",
     "text": [
      "/var/folders/s8/6lj08kz17ls03rcr6ms85hc00000gn/T/ipykernel_46601/2218560444.py:54: RuntimeWarning: This package (`duckduckgo_search`) has been renamed to `ddgs`! Use `pip install ddgs` instead.\n",
      "  with DDGS() as ddgs:\n"
     ]
    },
    {
     "name": "stdout",
     "output_type": "stream",
     "text": [
      "A critical error occurred while searching for Second Empire: https://duckduckgo.com/i.js?o=json&q=Second+Empire+house+architecture&l=us-en&vqd=4-267946251522585045198670885703992697453&p=-1&f=%2C%2C%2C%2C%2C 403 Ratelimit\n",
      "\n",
      "Finished processing 'Second Empire'. Downloaded 0 images.\n",
      "\n",
      "--- Starting style 8 of 22 ---\n",
      "\n",
      "====================\n",
      "Processing style: Queen Anne\n",
      "====================\n",
      "Saving images to: architectural_style_images/Queen_Anne\n",
      "Searching for: 'Queen Anne house architecture'...\n"
     ]
    },
    {
     "name": "stderr",
     "output_type": "stream",
     "text": [
      "/var/folders/s8/6lj08kz17ls03rcr6ms85hc00000gn/T/ipykernel_46601/2218560444.py:54: RuntimeWarning: This package (`duckduckgo_search`) has been renamed to `ddgs`! Use `pip install ddgs` instead.\n",
      "  with DDGS() as ddgs:\n"
     ]
    },
    {
     "name": "stdout",
     "output_type": "stream",
     "text": [
      "A critical error occurred while searching for Queen Anne: https://duckduckgo.com/i.js?o=json&q=Queen+Anne+house+architecture&l=us-en&vqd=4-83767753023693174304806104966349444730&p=-1&f=%2C%2C%2C%2C%2C 403 Ratelimit\n",
      "\n",
      "Finished processing 'Queen Anne'. Downloaded 0 images.\n",
      "\n",
      "--- Starting style 9 of 22 ---\n",
      "\n",
      "====================\n",
      "Processing style: Shingle\n",
      "====================\n",
      "Saving images to: architectural_style_images/Shingle\n",
      "Searching for: 'Shingle house architecture'...\n"
     ]
    },
    {
     "name": "stderr",
     "output_type": "stream",
     "text": [
      "/var/folders/s8/6lj08kz17ls03rcr6ms85hc00000gn/T/ipykernel_46601/2218560444.py:54: RuntimeWarning: This package (`duckduckgo_search`) has been renamed to `ddgs`! Use `pip install ddgs` instead.\n",
      "  with DDGS() as ddgs:\n"
     ]
    },
    {
     "name": "stdout",
     "output_type": "stream",
     "text": [
      "A critical error occurred while searching for Shingle: https://duckduckgo.com/i.js?o=json&q=Shingle+house+architecture&l=us-en&vqd=4-258057818571705008915033398710998993969&p=-1&f=%2C%2C%2C%2C%2C 403 Ratelimit\n",
      "\n",
      "Finished processing 'Shingle'. Downloaded 0 images.\n",
      "\n",
      "--- Starting style 10 of 22 ---\n",
      "\n",
      "====================\n",
      "Processing style: Richardsonian Romanesque\n",
      "====================\n",
      "Saving images to: architectural_style_images/Richardsonian_Romanesque\n",
      "Searching for: 'Richardsonian Romanesque house architecture'...\n"
     ]
    },
    {
     "name": "stderr",
     "output_type": "stream",
     "text": [
      "/var/folders/s8/6lj08kz17ls03rcr6ms85hc00000gn/T/ipykernel_46601/2218560444.py:54: RuntimeWarning: This package (`duckduckgo_search`) has been renamed to `ddgs`! Use `pip install ddgs` instead.\n",
      "  with DDGS() as ddgs:\n"
     ]
    },
    {
     "name": "stdout",
     "output_type": "stream",
     "text": [
      "A critical error occurred while searching for Richardsonian Romanesque: https://duckduckgo.com/i.js?o=json&q=Richardsonian+Romanesque+house+architecture&l=us-en&vqd=4-279587516344545224814318669927637441372&p=-1&f=%2C%2C%2C%2C%2C 403 Ratelimit\n",
      "\n",
      "Finished processing 'Richardsonian Romanesque'. Downloaded 0 images.\n",
      "\n",
      "--- Starting style 11 of 22 ---\n",
      "\n",
      "====================\n",
      "Processing style: Folk Victorian\n",
      "====================\n",
      "Saving images to: architectural_style_images/Folk_Victorian\n",
      "Searching for: 'Folk Victorian house architecture'...\n"
     ]
    },
    {
     "name": "stderr",
     "output_type": "stream",
     "text": [
      "/var/folders/s8/6lj08kz17ls03rcr6ms85hc00000gn/T/ipykernel_46601/2218560444.py:54: RuntimeWarning: This package (`duckduckgo_search`) has been renamed to `ddgs`! Use `pip install ddgs` instead.\n",
      "  with DDGS() as ddgs:\n"
     ]
    },
    {
     "name": "stdout",
     "output_type": "stream",
     "text": [
      "A critical error occurred while searching for Folk Victorian: https://duckduckgo.com/i.js?o=json&q=Folk+Victorian+house+architecture&l=us-en&vqd=4-267445092192180195248752498678584080139&p=-1&f=%2C%2C%2C%2C%2C 403 Ratelimit\n",
      "\n",
      "Finished processing 'Folk Victorian'. Downloaded 0 images.\n",
      "\n",
      "--- Starting style 12 of 22 ---\n",
      "\n",
      "====================\n",
      "Processing style: Colonial Revival\n",
      "====================\n",
      "Saving images to: architectural_style_images/Colonial_Revival\n",
      "Searching for: 'Colonial Revival house architecture'...\n"
     ]
    },
    {
     "name": "stderr",
     "output_type": "stream",
     "text": [
      "/var/folders/s8/6lj08kz17ls03rcr6ms85hc00000gn/T/ipykernel_46601/2218560444.py:54: RuntimeWarning: This package (`duckduckgo_search`) has been renamed to `ddgs`! Use `pip install ddgs` instead.\n",
      "  with DDGS() as ddgs:\n"
     ]
    },
    {
     "name": "stdout",
     "output_type": "stream",
     "text": [
      "A critical error occurred while searching for Colonial Revival: https://duckduckgo.com/i.js?o=json&q=Colonial+Revival+house+architecture&l=us-en&vqd=4-24641198012677318428774540134487307534&p=-1&f=%2C%2C%2C%2C%2C 403 Ratelimit\n",
      "\n",
      "Finished processing 'Colonial Revival'. Downloaded 0 images.\n",
      "\n",
      "--- Starting style 13 of 22 ---\n",
      "\n",
      "====================\n",
      "Processing style: Cape Cod\n",
      "====================\n",
      "Saving images to: architectural_style_images/Cape_Cod\n",
      "Searching for: 'Cape Cod house architecture'...\n"
     ]
    },
    {
     "name": "stderr",
     "output_type": "stream",
     "text": [
      "/var/folders/s8/6lj08kz17ls03rcr6ms85hc00000gn/T/ipykernel_46601/2218560444.py:54: RuntimeWarning: This package (`duckduckgo_search`) has been renamed to `ddgs`! Use `pip install ddgs` instead.\n",
      "  with DDGS() as ddgs:\n"
     ]
    },
    {
     "name": "stdout",
     "output_type": "stream",
     "text": [
      "A critical error occurred while searching for Cape Cod: https://duckduckgo.com/i.js?o=json&q=Cape+Cod+house+architecture&l=us-en&vqd=4-12541487914450745653919009573717055901&p=-1&f=%2C%2C%2C%2C%2C 403 Ratelimit\n",
      "\n",
      "Finished processing 'Cape Cod'. Downloaded 0 images.\n",
      "\n",
      "--- Starting style 14 of 22 ---\n",
      "\n",
      "====================\n",
      "Processing style: Neo Classical\n",
      "====================\n",
      "Saving images to: architectural_style_images/Neo_Classical\n",
      "Searching for: 'Neo Classical house architecture'...\n"
     ]
    },
    {
     "name": "stderr",
     "output_type": "stream",
     "text": [
      "/var/folders/s8/6lj08kz17ls03rcr6ms85hc00000gn/T/ipykernel_46601/2218560444.py:54: RuntimeWarning: This package (`duckduckgo_search`) has been renamed to `ddgs`! Use `pip install ddgs` instead.\n",
      "  with DDGS() as ddgs:\n"
     ]
    },
    {
     "name": "stdout",
     "output_type": "stream",
     "text": [
      "A critical error occurred while searching for Neo Classical: https://duckduckgo.com/i.js?o=json&q=Neo+Classical+house+architecture&l=us-en&vqd=4-187705507195728051165588149262439902009&p=-1&f=%2C%2C%2C%2C%2C 403 Ratelimit\n",
      "\n",
      "Finished processing 'Neo Classical'. Downloaded 0 images.\n",
      "\n",
      "--- Starting style 15 of 22 ---\n",
      "\n",
      "====================\n",
      "Processing style: Tudor Revival\n",
      "====================\n",
      "Saving images to: architectural_style_images/Tudor_Revival\n",
      "Searching for: 'Tudor Revival house architecture'...\n",
      "A critical error occurred while searching for Tudor Revival: https://duckduckgo.com/?q=Tudor+Revival+house+architecture 202 Ratelimit\n",
      "\n",
      "Finished processing 'Tudor Revival'. Downloaded 0 images.\n"
     ]
    },
    {
     "name": "stderr",
     "output_type": "stream",
     "text": [
      "/var/folders/s8/6lj08kz17ls03rcr6ms85hc00000gn/T/ipykernel_46601/2218560444.py:54: RuntimeWarning: This package (`duckduckgo_search`) has been renamed to `ddgs`! Use `pip install ddgs` instead.\n",
      "  with DDGS() as ddgs:\n"
     ]
    },
    {
     "name": "stdout",
     "output_type": "stream",
     "text": [
      "\n",
      "--- Starting style 16 of 22 ---\n",
      "\n",
      "====================\n",
      "Processing style: Spanish Colonial Revival\n",
      "====================\n",
      "Saving images to: architectural_style_images/Spanish_Colonial_Revival\n",
      "Searching for: 'Spanish Colonial Revival house architecture'...\n"
     ]
    },
    {
     "name": "stderr",
     "output_type": "stream",
     "text": [
      "/var/folders/s8/6lj08kz17ls03rcr6ms85hc00000gn/T/ipykernel_46601/2218560444.py:54: RuntimeWarning: This package (`duckduckgo_search`) has been renamed to `ddgs`! Use `pip install ddgs` instead.\n",
      "  with DDGS() as ddgs:\n"
     ]
    },
    {
     "name": "stdout",
     "output_type": "stream",
     "text": [
      "A critical error occurred while searching for Spanish Colonial Revival: https://duckduckgo.com/i.js?o=json&q=Spanish+Colonial+Revival+house+architecture&l=us-en&vqd=4-82723830900147939961261899366948559842&p=-1&f=%2C%2C%2C%2C%2C 403 Ratelimit\n",
      "\n",
      "Finished processing 'Spanish Colonial Revival'. Downloaded 0 images.\n",
      "\n",
      "--- Starting style 17 of 22 ---\n",
      "\n",
      "====================\n",
      "Processing style: French Revival\n",
      "====================\n",
      "Saving images to: architectural_style_images/French_Revival\n",
      "Searching for: 'French Revival house architecture'...\n"
     ]
    },
    {
     "name": "stderr",
     "output_type": "stream",
     "text": [
      "/var/folders/s8/6lj08kz17ls03rcr6ms85hc00000gn/T/ipykernel_46601/2218560444.py:54: RuntimeWarning: This package (`duckduckgo_search`) has been renamed to `ddgs`! Use `pip install ddgs` instead.\n",
      "  with DDGS() as ddgs:\n"
     ]
    },
    {
     "name": "stdout",
     "output_type": "stream",
     "text": [
      "A critical error occurred while searching for French Revival: https://duckduckgo.com/i.js?o=json&q=French+Revival+house+architecture&l=us-en&vqd=4-153301885815566491645050819281959753006&p=-1&f=%2C%2C%2C%2C%2C 403 Ratelimit\n",
      "\n",
      "Finished processing 'French Revival'. Downloaded 0 images.\n",
      "\n",
      "--- Starting style 18 of 22 ---\n",
      "\n",
      "====================\n",
      "Processing style: Pueblo Revival\n",
      "====================\n",
      "Saving images to: architectural_style_images/Pueblo_Revival\n",
      "Searching for: 'Pueblo Revival house architecture'...\n"
     ]
    },
    {
     "name": "stderr",
     "output_type": "stream",
     "text": [
      "/var/folders/s8/6lj08kz17ls03rcr6ms85hc00000gn/T/ipykernel_46601/2218560444.py:54: RuntimeWarning: This package (`duckduckgo_search`) has been renamed to `ddgs`! Use `pip install ddgs` instead.\n",
      "  with DDGS() as ddgs:\n"
     ]
    },
    {
     "name": "stdout",
     "output_type": "stream",
     "text": [
      "A critical error occurred while searching for Pueblo Revival: https://duckduckgo.com/i.js?o=json&q=Pueblo+Revival+house+architecture&l=us-en&vqd=4-271116062342893046115739979176125510511&p=-1&f=%2C%2C%2C%2C%2C 403 Ratelimit\n",
      "\n",
      "Finished processing 'Pueblo Revival'. Downloaded 0 images.\n",
      "\n",
      "--- Starting style 19 of 22 ---\n",
      "\n",
      "====================\n",
      "Processing style: Craftsman\n",
      "====================\n",
      "Saving images to: architectural_style_images/Craftsman\n",
      "Searching for: 'Craftsman house architecture'...\n"
     ]
    },
    {
     "name": "stderr",
     "output_type": "stream",
     "text": [
      "/var/folders/s8/6lj08kz17ls03rcr6ms85hc00000gn/T/ipykernel_46601/2218560444.py:54: RuntimeWarning: This package (`duckduckgo_search`) has been renamed to `ddgs`! Use `pip install ddgs` instead.\n",
      "  with DDGS() as ddgs:\n"
     ]
    },
    {
     "name": "stdout",
     "output_type": "stream",
     "text": [
      "A critical error occurred while searching for Craftsman: https://duckduckgo.com/i.js?o=json&q=Craftsman+house+architecture&l=us-en&vqd=4-269687162125784704791478567175597864343&p=-1&f=%2C%2C%2C%2C%2C 403 Ratelimit\n",
      "\n",
      "Finished processing 'Craftsman'. Downloaded 0 images.\n",
      "\n",
      "--- Starting style 20 of 22 ---\n",
      "\n",
      "====================\n",
      "Processing style: Modernistic\n",
      "====================\n",
      "Saving images to: architectural_style_images/Modernistic\n",
      "Searching for: 'Modernistic house architecture'...\n"
     ]
    },
    {
     "name": "stderr",
     "output_type": "stream",
     "text": [
      "/var/folders/s8/6lj08kz17ls03rcr6ms85hc00000gn/T/ipykernel_46601/2218560444.py:54: RuntimeWarning: This package (`duckduckgo_search`) has been renamed to `ddgs`! Use `pip install ddgs` instead.\n",
      "  with DDGS() as ddgs:\n"
     ]
    },
    {
     "name": "stdout",
     "output_type": "stream",
     "text": [
      "A critical error occurred while searching for Modernistic: https://duckduckgo.com/i.js?o=json&q=Modernistic+house+architecture&l=us-en&vqd=4-113977532651230231170303328793733369058&p=-1&f=%2C%2C%2C%2C%2C 403 Ratelimit\n",
      "\n",
      "Finished processing 'Modernistic'. Downloaded 0 images.\n",
      "\n",
      "--- Starting style 21 of 22 ---\n",
      "\n",
      "====================\n",
      "Processing style: International\n",
      "====================\n",
      "Saving images to: architectural_style_images/International\n",
      "Searching for: 'International house architecture'...\n"
     ]
    },
    {
     "name": "stderr",
     "output_type": "stream",
     "text": [
      "/var/folders/s8/6lj08kz17ls03rcr6ms85hc00000gn/T/ipykernel_46601/2218560444.py:54: RuntimeWarning: This package (`duckduckgo_search`) has been renamed to `ddgs`! Use `pip install ddgs` instead.\n",
      "  with DDGS() as ddgs:\n"
     ]
    },
    {
     "name": "stdout",
     "output_type": "stream",
     "text": [
      "A critical error occurred while searching for International: https://duckduckgo.com/i.js?o=json&q=International+house+architecture&l=us-en&vqd=4-153296329911244471734284389022245235945&p=-1&f=%2C%2C%2C%2C%2C 403 Ratelimit\n",
      "\n",
      "Finished processing 'International'. Downloaded 0 images.\n",
      "\n",
      "--- Starting style 22 of 22 ---\n",
      "\n",
      "====================\n",
      "Processing style: Ranch/Prairie\n",
      "====================\n",
      "Saving images to: architectural_style_images/Ranch_Prairie\n",
      "Searching for: 'Ranch/Prairie house architecture'...\n"
     ]
    },
    {
     "name": "stderr",
     "output_type": "stream",
     "text": [
      "/var/folders/s8/6lj08kz17ls03rcr6ms85hc00000gn/T/ipykernel_46601/2218560444.py:54: RuntimeWarning: This package (`duckduckgo_search`) has been renamed to `ddgs`! Use `pip install ddgs` instead.\n",
      "  with DDGS() as ddgs:\n"
     ]
    },
    {
     "name": "stdout",
     "output_type": "stream",
     "text": [
      "A critical error occurred while searching for Ranch/Prairie: https://duckduckgo.com/i.js?o=json&q=Ranch%2FPrairie+house+architecture&l=us-en&vqd=4-331094878150244586187329362068455889885&p=-1&f=%2C%2C%2C%2C%2C 403 Ratelimit\n",
      "\n",
      "Finished processing 'Ranch/Prairie'. Downloaded 0 images.\n",
      "\n",
      "\n",
      "All architectural styles have been processed. Scraping complete.\n"
     ]
    }
   ],
   "source": [
    "import os\n",
    "import re\n",
    "import requests\n",
    "from duckduckgo_search import DDGS\n",
    "import time\n",
    "\n",
    "# --- Configuration ---\n",
    "\n",
    "# List of house styles transcribed from the image\n",
    "HOUSE_STYLES = [\n",
    "    \"Saltbox\", \"Georgian\", \"Federal\", \"Greek Revival\", \"Gothic Revival\",\n",
    "    \"Italianate\", \"Second Empire\", \"Queen Anne\", \"Shingle\",\n",
    "    \"Richardsonian Romanesque\", \"Folk Victorian\", \"Colonial Revival\",\n",
    "    \"Cape Cod\", \"Neo Classical\", \"Tudor Revival\", \"Spanish Colonial Revival\",\n",
    "    \"French Revival\", \"Pueblo Revival\", \"Craftsman\", \"Modernistic\",\n",
    "    \"International\", \"Ranch/Prairie\"\n",
    "]\n",
    "\n",
    "# The base directory where all style folders will be created\n",
    "BASE_DOWNLOAD_DIRECTORY = \"architectural_style_images\"\n",
    "\n",
    "# The maximum number of images to download for each style\n",
    "MAX_IMAGES_PER_STYLE = 50\n",
    "\n",
    "def sanitize_foldername(name):\n",
    "    \"\"\"\n",
    "    Cleans a string to be used as a valid folder name.\n",
    "    Replaces spaces and slashes with underscores and removes invalid characters.\n",
    "    \"\"\"\n",
    "    name = name.replace('/', '_').replace(' ', '_')\n",
    "    name = re.sub(r'[^\\w-]', '', name)\n",
    "    return name\n",
    "\n",
    "def download_images_for_style(style, base_dir, max_images):\n",
    "    \"\"\"\n",
    "    Searches for images of a given architectural style and downloads them\n",
    "    into a dedicated sub-folder.\n",
    "    \"\"\"\n",
    "    print(f\"\\n{'='*20}\\nProcessing style: {style}\\n{'='*20}\")\n",
    "\n",
    "    style_folder_name = sanitize_foldername(style)\n",
    "    download_path = os.path.join(base_dir, style_folder_name)\n",
    "    os.makedirs(download_path, exist_ok=True)\n",
    "    print(f\"Saving images to: {download_path}\")\n",
    "\n",
    "    search_query = f\"{style} house architecture\"\n",
    "    print(f\"Searching for: '{search_query}'...\")\n",
    "\n",
    "    # --- FIX IS HERE ---\n",
    "    # Initialize the counter BEFORE the try block to ensure it always exists.\n",
    "    download_count = 0\n",
    "\n",
    "    try:\n",
    "        with DDGS() as ddgs:\n",
    "            search_results = ddgs.images(\n",
    "                keywords=search_query,\n",
    "                region=\"us-en\",\n",
    "                safesearch=\"off\",\n",
    "                max_results=max_images\n",
    "            )\n",
    "            \n",
    "            for i, result in enumerate(search_results):\n",
    "                # The loop will only run if search_results is not empty\n",
    "                image_url = result.get(\"image\")\n",
    "                if not image_url:\n",
    "                    print(f\"Skipping result {i+1}: No image URL found.\")\n",
    "                    continue\n",
    "\n",
    "                try:\n",
    "                    print(f\"[{i+1}/{max_images}] Downloading: {image_url[:70]}...\")\n",
    "                    response = requests.get(image_url, timeout=15)\n",
    "                    response.raise_for_status()\n",
    "\n",
    "                    file_ext = os.path.splitext(image_url)[1]\n",
    "                    if not file_ext or len(file_ext) > 5:\n",
    "                        content_type = response.headers.get('content-type')\n",
    "                        if content_type and 'jpeg' in content_type: file_ext = '.jpg'\n",
    "                        elif content_type and 'png' in content_type: file_ext = '.png'\n",
    "                        else: file_ext = '.jpg'\n",
    "\n",
    "                    filename = f\"{style_folder_name}_{download_count + 1}{file_ext}\"\n",
    "                    filepath = os.path.join(download_path, filename)\n",
    "\n",
    "                    with open(filepath, 'wb') as f:\n",
    "                        f.write(response.content)\n",
    "                    \n",
    "                    print(f\"   -> Saved as {filepath}\")\n",
    "                    download_count += 1\n",
    "\n",
    "                except requests.exceptions.RequestException as e:\n",
    "                    print(f\"   -> Error downloading image {i+1}: {e}\")\n",
    "                except Exception as e:\n",
    "                    print(f\"   -> An unexpected error occurred for image {i+1}: {e}\")\n",
    "\n",
    "    except Exception as e:\n",
    "        print(f\"A critical error occurred while searching for {style}: {e}\")\n",
    "    \n",
    "    # This print statement is now safe, as download_count is guaranteed to exist.\n",
    "    print(f\"\\nFinished processing '{style}'. Downloaded {download_count} images.\")\n",
    "\n",
    "\n",
    "def main():\n",
    "    \"\"\"\n",
    "    Main function to loop through all house styles and initiate downloads.\n",
    "    \"\"\"\n",
    "    os.makedirs(BASE_DOWNLOAD_DIRECTORY, exist_ok=True)\n",
    "    \n",
    "    total_styles = len(HOUSE_STYLES)\n",
    "    for index, style in enumerate(HOUSE_STYLES):\n",
    "        print(f\"\\n--- Starting style {index + 1} of {total_styles} ---\")\n",
    "        download_images_for_style(\n",
    "            style=style,\n",
    "            base_dir=BASE_DOWNLOAD_DIRECTORY,\n",
    "            max_images=MAX_IMAGES_PER_STYLE\n",
    "        )\n",
    "        time.sleep(2)\n",
    "        \n",
    "    print(\"\\n\\nAll architectural styles have been processed. Scraping complete.\")\n",
    "\n",
    "\n",
    "if __name__ == \"__main__\":\n",
    "    main()"
   ]
  }
 ],
 "metadata": {
  "kernelspec": {
   "display_name": ".venv",
   "language": "python",
   "name": "python3"
  },
  "language_info": {
   "codemirror_mode": {
    "name": "ipython",
    "version": 3
   },
   "file_extension": ".py",
   "mimetype": "text/x-python",
   "name": "python",
   "nbconvert_exporter": "python",
   "pygments_lexer": "ipython3",
   "version": "3.13.3"
  }
 },
 "nbformat": 4,
 "nbformat_minor": 2
}
